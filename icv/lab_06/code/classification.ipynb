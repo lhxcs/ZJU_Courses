{
 "cells": [
  {
   "cell_type": "markdown",
   "metadata": {},
   "source": [
    "\n",
    "Training a Classifier\n",
    "=====================\n",
    "\n",
    "This is it. You have seen how to define neural networks, compute loss and make\n",
    "updates to the weights of the network.\n",
    "\n",
    "Now you might be thinking,\n",
    "\n",
    "What about data?\n",
    "----------------\n",
    "\n",
    "Generally, when you have to deal with image, text, audio or video data,\n",
    "you can use standard python packages that load data into a numpy array.\n",
    "Then you can convert this array into a ``torch.*Tensor``.\n",
    "\n",
    "-  For images, packages such as Pillow, OpenCV are useful\n",
    "-  For audio, packages such as scipy and librosa\n",
    "-  For text, either raw Python or Cython based loading, or NLTK and\n",
    "   SpaCy are useful\n",
    "\n",
    "Specifically for vision, we have created a package called\n",
    "``torchvision``, that has data loaders for common datasets such as\n",
    "ImageNet, CIFAR10, MNIST, etc. and data transformers for images, viz.,\n",
    "``torchvision.datasets`` and ``torch.utils.data.DataLoader``.\n",
    "\n",
    "This provides a huge convenience and avoids writing boilerplate code.\n",
    "\n",
    "For this tutorial, we will use the CIFAR10 dataset.\n",
    "\n",
    "It has the classes: \n",
    "\n",
    "‘airplane’, ‘automobile’, ‘bird’, ‘cat’, ‘deer’,\n",
    "‘dog’, ‘frog’, ‘horse’, ‘ship’, ‘truck’. \n",
    "\n",
    "The images in CIFAR-10 are of size 3x32x32, i.e. 3-channel color images of 32x32 pixels in size.\n",
    "\n",
    ".. figure:: /_static/img/cifar10.png\n",
    "   :alt: cifar10\n",
    "\n",
    "   cifar10\n",
    "\n",
    "\n",
    "Training an image classifier\n",
    "----------------------------\n",
    "\n",
    "We will do the following steps in order:\n",
    "\n",
    "1. Load and normalize the CIFAR10 training and test datasets using\n",
    "   ``torchvision``\n",
    "2. Define a Convolutional Neural Network\n",
    "3. Define a loss function\n",
    "4. Train the network on the training data\n",
    "5. Test the network on the test data\n",
    "\n",
    "1. Load and normalize CIFAR10\n",
    "\n",
    "\n",
    "Using ``torchvision``, it’s extremely easy to load CIFAR10.\n",
    "\n"
   ]
  },
  {
   "cell_type": "code",
   "execution_count": 1,
   "metadata": {},
   "outputs": [],
   "source": [
    "import torch\n",
    "import torchvision\n",
    "import torchvision.transforms as transforms"
   ]
  },
  {
   "cell_type": "markdown",
   "metadata": {},
   "source": [
    "## Define the dataset and dataloader\n",
    "\n",
    "The output of torchvision datasets are PILImage images of range [0, 1].\n",
    "We transform them to Tensors of normalized range [-1, 1].\n",
    "\n"
   ]
  },
  {
   "cell_type": "markdown",
   "metadata": {},
   "source": [
    "<div class=\"alert alert-info\"><h4>Note</h4><p>If running on Windows and you get a BrokenPipeError, try setting\n",
    "    the num_worker of torch.utils.data.DataLoader() to 0.</p></div>\n",
    "\n"
   ]
  },
  {
   "cell_type": "code",
   "execution_count": 2,
   "metadata": {},
   "outputs": [
    {
     "name": "stdout",
     "output_type": "stream",
     "text": [
      "Downloading https://www.cs.toronto.edu/~kriz/cifar-10-python.tar.gz to ./data\\cifar-10-python.tar.gz\n"
     ]
    },
    {
     "name": "stderr",
     "output_type": "stream",
     "text": [
      "100.0%\n"
     ]
    },
    {
     "name": "stdout",
     "output_type": "stream",
     "text": [
      "Extracting ./data\\cifar-10-python.tar.gz to ./data\n",
      "Files already downloaded and verified\n",
      "Files already downloaded and verified\n",
      "Files already downloaded and verified\n"
     ]
    }
   ],
   "source": [
    "transform = transforms.Compose(\n",
    "    [transforms.ToTensor(),\n",
    "     transforms.Normalize((0.5, 0.5, 0.5), (0.5, 0.5, 0.5))])\n",
    "\n",
    "batch_size = 64\n",
    "\n",
    "\n",
    "def get_vis_loader():\n",
    "    transform = transforms.Compose(\n",
    "    [transforms.ToTensor(),\n",
    "     transforms.Normalize((0.5, 0.5, 0.5), (0.5, 0.5, 0.5))])\n",
    "    \n",
    "    #创建训练集和测试集对象，train=True表示使用训练集\n",
    "    trainset = torchvision.datasets.CIFAR10(root='./data', train=True,\n",
    "                                            download=True, transform=transform)\n",
    "    #数据加载器，将数据提供给模型进行训练。\n",
    "    trainloader = torch.utils.data.DataLoader(trainset, batch_size=4,\n",
    "                                              shuffle=True, num_workers=2)\n",
    "    testset = torchvision.datasets.CIFAR10(root='./data', train=False,\n",
    "                                           download=True, transform=transform)\n",
    "    testloader = torch.utils.data.DataLoader(testset, batch_size=4,\n",
    "                                             shuffle=False, num_workers=2)\n",
    "    return trainloader, testloader\n",
    "\n",
    "\n",
    "def get_train_loader(batch_size, transform):\n",
    "    trainset = torchvision.datasets.CIFAR10(root='./data', train=True,\n",
    "                                            download=True, transform=transform)\n",
    "    trainloader = torch.utils.data.DataLoader(trainset, batch_size=batch_size,\n",
    "                                              shuffle=True, num_workers=2)\n",
    "    return trainloader\n",
    "    \n",
    "    \n",
    "def get_test_loader(batch_size, transform):\n",
    "    testset = torchvision.datasets.CIFAR10(root='./data', train=False,\n",
    "                                           download=True, transform=transform)\n",
    "    testloader = torch.utils.data.DataLoader(testset, batch_size=batch_size,\n",
    "                                             shuffle=False, num_workers=2)\n",
    "    return testloader\n",
    "    \n",
    "    \n",
    "\n",
    "classes = ('plane', 'car', 'bird', 'cat',\n",
    "           'deer', 'dog', 'frog', 'horse', 'ship', 'truck')\n",
    "\n",
    "vistrainloader, vistestloader = get_vis_loader()\n",
    "trainloader = get_train_loader(batch_size, transform)\n",
    "testloader = get_test_loader(batch_size, transform)"
   ]
  },
  {
   "cell_type": "markdown",
   "metadata": {},
   "source": [
    "## Visualization\n",
    "\n",
    "Let us show some of the training images, for fun.\n",
    "\n"
   ]
  },
  {
   "cell_type": "code",
   "execution_count": 5,
   "metadata": {},
   "outputs": [
    {
     "data": {
      "image/png": "[encoded data removed]",
      "text/plain": [
       "<Figure size 640x480 with 1 Axes>"
      ]
     },
     "metadata": {},
     "output_type": "display_data"
    },
    {
     "name": "stdout",
     "output_type": "stream",
     "text": [
      "  car   dog truck  bird\n"
     ]
    }
   ],
   "source": [
    "import matplotlib.pyplot as plt\n",
    "import numpy as np\n",
    "\n",
    "# functions to show an image\n",
    "\n",
    "\n",
    "def imshow(img):\n",
    "    img = img / 2 + 0.5     # unnormalize\n",
    "    npimg = img.numpy()\n",
    "    plt.imshow(np.transpose(npimg, (1, 2, 0)))\n",
    "    plt.show()\n",
    "\n",
    "\n",
    "# get some random training images\n",
    "dataiter = iter(vistrainloader)#逐步获取批次的数据\n",
    "images, labels = next(dataiter)\n",
    "\n",
    "# show images\n",
    "imshow(torchvision.utils.make_grid(images))\n",
    "# print labels\n",
    "print(' '.join('%5s' % classes[labels[j]] for j in range(4)))"
   ]
  },
  {
   "cell_type": "markdown",
   "metadata": {},
   "source": [
    "## Define a Neural Network"
   ]
  },
  {
   "cell_type": "code",
   "execution_count": 6,
   "metadata": {},
   "outputs": [],
   "source": [
    "import torch.nn as nn\n",
    "import torch.nn.functional as F\n",
    "\n",
    "\n",
    "class NeuralNet(nn.Module):\n",
    "    def __init__(self):\n",
    "        super().__init__()\n",
    "        self.fc1 = nn.Linear(3*32*32, 128)\n",
    "        self.fc2 = nn.Linear(128, 256)\n",
    "        self.fc3 = nn.Linear(256, 512)\n",
    "        self.fc4 = nn.Linear(512, 10)\n",
    "\n",
    "    def forward(self, x):\n",
    "        x = torch.flatten(x, 1) # flatten all dimensions except batch\n",
    "        x = F.relu(self.fc1(x))\n",
    "        x = F.relu(self.fc2(x))\n",
    "        x = F.relu(self.fc3(x))\n",
    "        x = self.fc4(x)\n",
    "        return x\n",
    "\n",
    "\n",
    "fc_net = NeuralNet()"
   ]
  },
  {
   "cell_type": "markdown",
   "metadata": {},
   "source": [
    "## Define a Loss function and optimizer\n",
    "\n",
    "Let's use a Classification Cross-Entropy loss and SGD with momentum.\n",
    "\n"
   ]
  },
  {
   "cell_type": "code",
   "execution_count": 7,
   "metadata": {},
   "outputs": [],
   "source": [
    "import torch.optim as optim\n",
    "\n",
    "\n",
    "def get_optimizer(net, lr):\n",
    "    optimizer = optim.SGD(net.parameters(), lr=lr, momentum=0.9)\n",
    "    return optimizer\n",
    "\n",
    "\n",
    "def accuracy(output, target):\n",
    "    # get the index of the max log-probability\n",
    "    pred = output.max(1, keepdim=True)[1]\n",
    "    return pred.eq(target.view_as(pred)).float().mean()\n",
    "\n",
    "\n",
    "criterion = nn.CrossEntropyLoss()\n",
    "optimizer = get_optimizer(fc_net, 0.01)"
   ]
  },
  {
   "cell_type": "markdown",
   "metadata": {},
   "source": [
    "## Define training code"
   ]
  },
  {
   "cell_type": "code",
   "execution_count": 8,
   "metadata": {},
   "outputs": [],
   "source": [
    "def forward_step(net, inputs, labels):\n",
    "    outputs = net(inputs)\n",
    "    loss = criterion(outputs, labels)\n",
    "    return outputs, loss, labels\n",
    "\n",
    "\n",
    "def train(net, loader, optimizer, max_epoch):\n",
    "    net.train()\n",
    "    N = len(loader)\n",
    "    print_interval = (N // 8 // 100 + 1) * 100\n",
    "    for epoch in range(max_epoch):  # loop over the dataset multiple times\n",
    "\n",
    "        running_loss = 0.0\n",
    "        running_acc = 0.0\n",
    "        for i, data in enumerate(loader, 0):\n",
    "            # get the inputs; data is a list of [inputs, labels]\n",
    "            inputs, labels = data\n",
    "\n",
    "            # zero the parameter gradients\n",
    "            optimizer.zero_grad()\n",
    "\n",
    "            # forward + backward + optimize\n",
    "            outputs, loss, labels = forward_step(net, inputs, labels)\n",
    "            loss.backward()\n",
    "            optimizer.step()\n",
    "\n",
    "            # print statistics\n",
    "            running_loss += loss.item()\n",
    "            running_acc += accuracy(outputs, labels).item()\n",
    "            if (i + 1) % print_interval == 0:\n",
    "                print('Epoch: [%d / %d], batches: [%d / %d], loss: %.3f, acc: %.2f' %\n",
    "                      (epoch + 1, max_epoch, i + 1, N, \n",
    "                       running_loss / print_interval, 100 * running_acc / print_interval))\n",
    "                running_loss = 0.0\n",
    "                running_acc = 0.0\n",
    "\n",
    "    print('Finished Training')"
   ]
  },
  {
   "cell_type": "markdown",
   "metadata": {},
   "source": [
    "## Training on GPU?"
   ]
  },
  {
   "cell_type": "code",
   "execution_count": 9,
   "metadata": {},
   "outputs": [
    {
     "name": "stdout",
     "output_type": "stream",
     "text": [
      "cpu\n"
     ]
    }
   ],
   "source": [
    "device = torch.device(\"cuda:0\" if torch.cuda.is_available() else \"cpu\")\n",
    "\n",
    "# Assuming that we are on a CUDA machine, this should print a CUDA device:\n",
    "\n",
    "print(device)"
   ]
  },
  {
   "cell_type": "markdown",
   "metadata": {},
   "source": [
    "The rest of this section assumes that ``device`` is a CUDA device.\n",
    "\n",
    "Then these methods will recursively go over all modules and convert their\n",
    "parameters and buffers to CUDA tensors:\n",
    "\n",
    ".. code:: python\n",
    "\n",
    "    net.to(device)\n",
    "\n",
    "\n",
    "Remember that you will have to send the inputs and targets at every step\n",
    "to the GPU too:\n",
    "\n",
    ".. code:: python\n",
    "\n",
    "        inputs, labels = data[0].to(device), data[1].to(device)\n",
    "\n",
    "Why don't I notice MASSIVE speedup compared to CPU? Because your network\n",
    "is really small.\n",
    "\n",
    "**Exercise:** Try increasing the width of your network (argument 2 of\n",
    "the first ``nn.Conv2d``, and argument 1 of the second ``nn.Conv2d`` –\n",
    "they need to be the same number), see what kind of speedup you get.\n",
    "\n",
    "**Goals achieved**:\n",
    "\n",
    "- Understanding PyTorch's Tensor library and neural networks at a high level.\n",
    "- Train a small neural network to classify images"
   ]
  },
  {
   "cell_type": "markdown",
   "metadata": {},
   "source": [
    "## Train the network\n",
    "\n",
    "This is when things start to get interesting.\n",
    "We simply have to loop over our data iterator, and feed the inputs to the\n",
    "network and optimize.\n",
    "\n"
   ]
  },
  {
   "cell_type": "code",
   "execution_count": 39,
   "metadata": {},
   "outputs": [
    {
     "name": "stdout",
     "output_type": "stream",
     "text": [
      "Epoch: [1 / 10], batches: [100 / 782], loss: 0.839, acc: 70.27\n",
      "Epoch: [1 / 10], batches: [200 / 782], loss: 0.860, acc: 68.66\n",
      "Epoch: [1 / 10], batches: [300 / 782], loss: 0.870, acc: 68.94\n",
      "Epoch: [1 / 10], batches: [400 / 782], loss: 0.883, acc: 68.22\n",
      "Epoch: [1 / 10], batches: [500 / 782], loss: 0.871, acc: 68.73\n",
      "Epoch: [1 / 10], batches: [600 / 782], loss: 0.918, acc: 67.20\n",
      "Epoch: [1 / 10], batches: [700 / 782], loss: 0.916, acc: 66.89\n",
      "Epoch: [2 / 10], batches: [100 / 782], loss: 0.785, acc: 71.72\n",
      "Epoch: [2 / 10], batches: [200 / 782], loss: 0.807, acc: 70.14\n",
      "Epoch: [2 / 10], batches: [300 / 782], loss: 0.821, acc: 70.47\n",
      "Epoch: [2 / 10], batches: [400 / 782], loss: 0.827, acc: 70.33\n",
      "Epoch: [2 / 10], batches: [500 / 782], loss: 0.830, acc: 70.08\n",
      "Epoch: [2 / 10], batches: [600 / 782], loss: 0.883, acc: 68.05\n",
      "Epoch: [2 / 10], batches: [700 / 782], loss: 0.876, acc: 68.94\n",
      "Epoch: [3 / 10], batches: [100 / 782], loss: 0.750, acc: 73.28\n",
      "Epoch: [3 / 10], batches: [200 / 782], loss: 0.769, acc: 72.02\n",
      "Epoch: [3 / 10], batches: [300 / 782], loss: 0.754, acc: 72.81\n",
      "Epoch: [3 / 10], batches: [400 / 782], loss: 0.781, acc: 72.48\n",
      "Epoch: [3 / 10], batches: [500 / 782], loss: 0.796, acc: 71.47\n",
      "Epoch: [3 / 10], batches: [600 / 782], loss: 0.808, acc: 70.59\n",
      "Epoch: [3 / 10], batches: [700 / 782], loss: 0.817, acc: 70.08\n",
      "Epoch: [4 / 10], batches: [100 / 782], loss: 0.688, acc: 75.34\n",
      "Epoch: [4 / 10], batches: [200 / 782], loss: 0.715, acc: 74.39\n",
      "Epoch: [4 / 10], batches: [300 / 782], loss: 0.702, acc: 74.56\n",
      "Epoch: [4 / 10], batches: [400 / 782], loss: 0.735, acc: 74.06\n",
      "Epoch: [4 / 10], batches: [500 / 782], loss: 0.773, acc: 71.77\n",
      "Epoch: [4 / 10], batches: [600 / 782], loss: 0.745, acc: 72.98\n",
      "Epoch: [4 / 10], batches: [700 / 782], loss: 0.774, acc: 72.53\n",
      "Epoch: [5 / 10], batches: [100 / 782], loss: 0.637, acc: 77.53\n",
      "Epoch: [5 / 10], batches: [200 / 782], loss: 0.658, acc: 76.09\n",
      "Epoch: [5 / 10], batches: [300 / 782], loss: 0.696, acc: 75.00\n",
      "Epoch: [5 / 10], batches: [400 / 782], loss: 0.693, acc: 75.41\n",
      "Epoch: [5 / 10], batches: [500 / 782], loss: 0.728, acc: 73.89\n",
      "Epoch: [5 / 10], batches: [600 / 782], loss: 0.700, acc: 74.48\n",
      "Epoch: [5 / 10], batches: [700 / 782], loss: 0.751, acc: 72.00\n",
      "Epoch: [6 / 10], batches: [100 / 782], loss: 0.584, acc: 79.20\n",
      "Epoch: [6 / 10], batches: [200 / 782], loss: 0.616, acc: 78.30\n",
      "Epoch: [6 / 10], batches: [300 / 782], loss: 0.631, acc: 77.44\n",
      "Epoch: [6 / 10], batches: [400 / 782], loss: 0.646, acc: 77.30\n",
      "Epoch: [6 / 10], batches: [500 / 782], loss: 0.670, acc: 75.52\n",
      "Epoch: [6 / 10], batches: [600 / 782], loss: 0.702, acc: 74.31\n",
      "Epoch: [6 / 10], batches: [700 / 782], loss: 0.704, acc: 74.97\n",
      "Epoch: [7 / 10], batches: [100 / 782], loss: 0.529, acc: 80.58\n",
      "Epoch: [7 / 10], batches: [200 / 782], loss: 0.591, acc: 78.98\n",
      "Epoch: [7 / 10], batches: [300 / 782], loss: 0.591, acc: 78.19\n",
      "Epoch: [7 / 10], batches: [400 / 782], loss: 0.628, acc: 77.30\n",
      "Epoch: [7 / 10], batches: [500 / 782], loss: 0.601, acc: 77.91\n",
      "Epoch: [7 / 10], batches: [600 / 782], loss: 0.647, acc: 76.72\n",
      "Epoch: [7 / 10], batches: [700 / 782], loss: 0.642, acc: 77.28\n",
      "Epoch: [8 / 10], batches: [100 / 782], loss: 0.521, acc: 81.28\n",
      "Epoch: [8 / 10], batches: [200 / 782], loss: 0.512, acc: 81.67\n",
      "Epoch: [8 / 10], batches: [300 / 782], loss: 0.568, acc: 79.88\n",
      "Epoch: [8 / 10], batches: [400 / 782], loss: 0.586, acc: 79.11\n",
      "Epoch: [8 / 10], batches: [500 / 782], loss: 0.585, acc: 78.53\n",
      "Epoch: [8 / 10], batches: [600 / 782], loss: 0.604, acc: 78.00\n",
      "Epoch: [8 / 10], batches: [700 / 782], loss: 0.627, acc: 77.19\n",
      "Epoch: [9 / 10], batches: [100 / 782], loss: 0.477, acc: 82.94\n",
      "Epoch: [9 / 10], batches: [200 / 782], loss: 0.494, acc: 82.73\n",
      "Epoch: [9 / 10], batches: [300 / 782], loss: 0.525, acc: 80.80\n",
      "Epoch: [9 / 10], batches: [400 / 782], loss: 0.535, acc: 80.81\n",
      "Epoch: [9 / 10], batches: [500 / 782], loss: 0.570, acc: 79.52\n",
      "Epoch: [9 / 10], batches: [600 / 782], loss: 0.586, acc: 78.73\n",
      "Epoch: [9 / 10], batches: [700 / 782], loss: 0.591, acc: 78.61\n",
      "Epoch: [10 / 10], batches: [100 / 782], loss: 0.466, acc: 83.53\n",
      "Epoch: [10 / 10], batches: [200 / 782], loss: 0.453, acc: 83.34\n",
      "Epoch: [10 / 10], batches: [300 / 782], loss: 0.473, acc: 83.19\n",
      "Epoch: [10 / 10], batches: [400 / 782], loss: 0.515, acc: 81.33\n",
      "Epoch: [10 / 10], batches: [500 / 782], loss: 0.529, acc: 81.12\n",
      "Epoch: [10 / 10], batches: [600 / 782], loss: 0.532, acc: 80.61\n",
      "Epoch: [10 / 10], batches: [700 / 782], loss: 0.562, acc: 80.00\n",
      "Finished Training\n"
     ]
    }
   ],
   "source": [
    "train(fc_net, trainloader, optimizer, 10)"
   ]
  },
  {
   "cell_type": "markdown",
   "metadata": {},
   "source": [
    "## Let's quickly save our trained model:\n",
    "\n"
   ]
  },
  {
   "cell_type": "code",
   "execution_count": 40,
   "metadata": {},
   "outputs": [],
   "source": [
    "PATH = './checkpoints/cifar_net.pth'\n",
    "\n",
    "\n",
    "def save_model(net, path):\n",
    "    torch.save(net.state_dict(), path)\n",
    "    \n",
    "    \n",
    "save_model(fc_net, PATH)"
   ]
  },
  {
   "cell_type": "markdown",
   "metadata": {},
   "source": [
    "## Test the network on the test data\n",
    "\n",
    "\n",
    "We have trained the network for 2 passes over the training dataset.\n",
    "But we need to check if the network has learnt anything at all.\n",
    "\n",
    "We will check this by predicting the class label that the neural network\n",
    "outputs, and checking it against the ground-truth. If the prediction is\n",
    "correct, we add the sample to the list of correct predictions.\n",
    "\n",
    "Okay, first step. Let us display an image from the test set to get familiar.\n",
    "\n"
   ]
  },
  {
   "cell_type": "code",
   "execution_count": 41,
   "metadata": {},
   "outputs": [
    {
     "data": {
      "image/png": "[encoded data removed]",
      "text/plain": [
       "<Figure size 640x480 with 1 Axes>"
      ]
     },
     "metadata": {},
     "output_type": "display_data"
    },
    {
     "name": "stdout",
     "output_type": "stream",
     "text": [
      "GroundTruth:    cat  ship  ship plane\n"
     ]
    }
   ],
   "source": [
    "dataiter = iter(vistestloader)\n",
    "images, labels = next(dataiter)\n",
    "\n",
    "# print images\n",
    "imshow(torchvision.utils.make_grid(images))\n",
    "print('GroundTruth: ', ' '.join('%5s' % classes[labels[j]] for j in range(4)))"
   ]
  },
  {
   "cell_type": "markdown",
   "metadata": {},
   "source": [
    "## Load a model\n",
    "Next, let's load back in our saved model (note: saving and re-loading the model\n",
    "wasn't necessary here, we only did it to illustrate how to do so):\n",
    "\n"
   ]
  },
  {
   "cell_type": "code",
   "execution_count": 42,
   "metadata": {},
   "outputs": [],
   "source": [
    "net = NeuralNet()\n",
    "\n",
    "\n",
    "def load_model(net, path):\n",
    "    net.load_state_dict(torch.load(PATH))\n",
    "    \n",
    "    \n",
    "load_model(net, PATH)"
   ]
  },
  {
   "cell_type": "markdown",
   "metadata": {},
   "source": [
    "Okay, now let us see what the neural network thinks these examples above are:\n",
    "\n"
   ]
  },
  {
   "cell_type": "code",
   "execution_count": 43,
   "metadata": {},
   "outputs": [],
   "source": [
    "outputs = net(images)"
   ]
  },
  {
   "cell_type": "markdown",
   "metadata": {},
   "source": [
    "The outputs are energies for the 10 classes.\n",
    "The higher the energy for a class, the more the network\n",
    "thinks that the image is of the particular class.\n",
    "So, let's get the index of the highest energy:\n",
    "\n"
   ]
  },
  {
   "cell_type": "code",
   "execution_count": 44,
   "metadata": {},
   "outputs": [
    {
     "name": "stdout",
     "output_type": "stream",
     "text": [
      "Predicted:    cat  ship  ship  bird\n"
     ]
    }
   ],
   "source": [
    "_, predicted = torch.max(outputs, 1)\n",
    "\n",
    "print('Predicted: ', ' '.join('%5s' % classes[predicted[j]]\n",
    "                              for j in range(4)))"
   ]
  },
  {
   "cell_type": "markdown",
   "metadata": {},
   "source": [
    "## Define testing code"
   ]
  },
  {
   "cell_type": "code",
   "execution_count": 45,
   "metadata": {},
   "outputs": [],
   "source": [
    "def test(net, testloader):\n",
    "    correct = 0\n",
    "    total = 0\n",
    "    net.eval()\n",
    "    # since we're not training, we don't need to calculate the gradients for our outputs\n",
    "    with torch.no_grad():\n",
    "        for data in testloader:\n",
    "            images, labels = data\n",
    "            # calculate outputs by running images through the network\n",
    "            outputs = net(images)\n",
    "            # the class with the highest energy is what we choose as prediction\n",
    "            _, predicted = torch.max(outputs.data, 1)\n",
    "            total += labels.size(0)\n",
    "            correct += (predicted == labels).sum().item()\n",
    "\n",
    "    print('Accuracy of the network on the 10000 test images: %d %%' % (\n",
    "        100 * correct / total))"
   ]
  },
  {
   "cell_type": "code",
   "execution_count": 46,
   "metadata": {},
   "outputs": [
    {
     "name": "stdout",
     "output_type": "stream",
     "text": [
      "Accuracy of the network on the 10000 test images: 52 %\n"
     ]
    }
   ],
   "source": [
    "test(net, testloader)"
   ]
  },
  {
   "cell_type": "markdown",
   "metadata": {},
   "source": [
    "## See accuracy of each class\n",
    "\n",
    "That looks way better than chance, which is 10% accuracy (randomly picking\n",
    "a class out of 10 classes).\n",
    "Seems like the network learnt something.\n",
    "\n",
    "Hmmm, what are the classes that performed well, and the classes that did\n",
    "not perform well:\n",
    "\n"
   ]
  },
  {
   "cell_type": "code",
   "execution_count": 47,
   "metadata": {},
   "outputs": [],
   "source": [
    "def class_test(net, testloader):\n",
    "    # prepare to count predictions for each class\n",
    "    correct_pred = {classname: 0 for classname in classes}\n",
    "    total_pred = {classname: 0 for classname in classes}\n",
    "    \n",
    "    net.eval()\n",
    "    # again no gradients needed\n",
    "    with torch.no_grad():\n",
    "        for data in testloader:\n",
    "            images, labels = data    \n",
    "            outputs = net(images)    \n",
    "            _, predictions = torch.max(outputs, 1)\n",
    "            # collect the correct predictions for each class\n",
    "            for label, prediction in zip(labels, predictions):\n",
    "                if label == prediction:\n",
    "                    correct_pred[classes[label]] += 1\n",
    "                total_pred[classes[label]] += 1\n",
    "\n",
    "\n",
    "    # print accuracy for each class\n",
    "    for classname, correct_count in correct_pred.items():\n",
    "        acc = 100 * float(correct_count) / total_pred[classname]\n",
    "        print(\"Accuracy for class {:5s} is: {:.1f} %\".format(classname, \n",
    "                                                       acc))"
   ]
  },
  {
   "cell_type": "code",
   "execution_count": 48,
   "metadata": {},
   "outputs": [
    {
     "name": "stdout",
     "output_type": "stream",
     "text": [
      "Accuracy for class plane is: 58.0 %\n",
      "Accuracy for class car   is: 55.2 %\n",
      "Accuracy for class bird  is: 37.2 %\n",
      "Accuracy for class cat   is: 37.7 %\n",
      "Accuracy for class deer  is: 49.8 %\n",
      "Accuracy for class dog   is: 33.6 %\n",
      "Accuracy for class frog  is: 58.5 %\n",
      "Accuracy for class horse is: 62.7 %\n",
      "Accuracy for class ship  is: 75.0 %\n",
      "Accuracy for class truck is: 54.1 %\n"
     ]
    }
   ],
   "source": [
    "class_test(net, testloader)"
   ]
  },
  {
   "cell_type": "markdown",
   "metadata": {},
   "source": [
    "# Your turn now!"
   ]
  },
  {
   "cell_type": "markdown",
   "metadata": {},
   "source": [
    "## Define a Convolutional Neural Network\n",
    "\n",
    "The architecture should be:\n",
    "\n",
    "    conv2d, 5x5, 3->8, padding=2\n",
    "\n",
    "    Relu()\n",
    "\n",
    "    conv2d, 5x5, 8->16, padding=2, stride=2\n",
    "\n",
    "    Relu()\n",
    "\n",
    "    conv2d, 5x5, 16->32, padding=2\n",
    "    \n",
    "    Relu()\n",
    "\n",
    "    conv2d, 5x5, 32->64, padding=2, stride=2\n",
    "    \n",
    "    Relu()\n",
    "\n",
    "    conv2d, 5x5, 64->128, padding=2\n",
    "\n",
    "    maxpool2d\n",
    "\n",
    "    Relu()\n",
    "\n",
    "    flatten the feature map\n",
    "\n",
    "    fc, the whole feature map -> 120\n",
    "\n",
    "    Relu()\n",
    "\n",
    "    fc, 120->84\n",
    "\n",
    "    Relu()\n",
    "\n",
    "    fc, 84->10\n",
    "    "
   ]
  },
  {
   "cell_type": "code",
   "execution_count": 53,
   "metadata": {},
   "outputs": [
    {
     "name": "stdout",
     "output_type": "stream",
     "text": [
      "ConvolutionNet(\n",
      "  (conv1): Conv2d(3, 8, kernel_size=(5, 5), stride=(1, 1), padding=(2, 2))\n",
      "  (conv2): Conv2d(8, 16, kernel_size=(5, 5), stride=(2, 2), padding=(2, 2))\n",
      "  (conv3): Conv2d(16, 32, kernel_size=(5, 5), stride=(1, 1), padding=(2, 2))\n",
      "  (conv4): Conv2d(32, 64, kernel_size=(5, 5), stride=(2, 2), padding=(2, 2))\n",
      "  (conv5): Conv2d(64, 128, kernel_size=(5, 5), stride=(1, 1), padding=(2, 2))\n",
      "  (flatten): Flatten(start_dim=1, end_dim=-1)\n",
      "  (maxpool): MaxPool2d(kernel_size=2, stride=2, padding=0, dilation=1, ceil_mode=False)\n",
      "  (fc1): Linear(in_features=2048, out_features=120, bias=True)\n",
      "  (fc2): Linear(in_features=120, out_features=84, bias=True)\n",
      "  (fc3): Linear(in_features=84, out_features=10, bias=True)\n",
      ")\n"
     ]
    }
   ],
   "source": [
    "import torch.nn as nn\n",
    "import torch.nn.functional as F\n",
    "\n",
    "\n",
    "class ConvolutionNet(nn.Module):\n",
    "    def __init__(self):\n",
    "        super().__init__()\n",
    "        '''\n",
    "        Implement here\n",
    "        '''\n",
    "        self.conv1 = nn.Conv2d(3,8,kernel_size=5,padding=2)\n",
    "        self.conv2 = nn.Conv2d(8,16,kernel_size=5,padding=2,stride=2)\n",
    "        self.conv3 = nn.Conv2d(16,32,kernel_size=5,padding=2)\n",
    "        self.conv4 = nn.Conv2d(32,64,kernel_size=5,padding=2,stride=2)\n",
    "        self.conv5 = nn.Conv2d(64,128,kernel_size=5,padding=2)\n",
    "        self.flatten=nn.Flatten()\n",
    "        self.maxpool=nn.MaxPool2d(2,2)\n",
    "        self.fc1=nn.Linear(128*4*4,120)\n",
    "        self.fc2=nn.Linear(120,84)\n",
    "        self.fc3=nn.Linear(84,10)\n",
    "\n",
    "\n",
    "    def forward(self, x):\n",
    "        '''\n",
    "        Implement here\n",
    "        '''\n",
    "        x=F.relu(self.conv1(x))\n",
    "        x=F.relu(self.conv2(x))\n",
    "        x=F.relu(self.conv3(x))\n",
    "        x=F.relu(self.conv4(x))\n",
    "        x=self.conv5(x)\n",
    "        x=self.maxpool(x)\n",
    "        x=F.relu(x)\n",
    "        x=self.flatten(x)\n",
    "        x=F.relu(self.fc1(x))\n",
    "        x=F.relu(self.fc2(x))\n",
    "        x=self.fc3(x)\n",
    "        return x\n",
    "\n",
    "conv_net = ConvolutionNet()\n",
    "print(conv_net)"
   ]
  },
  {
   "cell_type": "markdown",
   "metadata": {},
   "source": [
    "## Train the convolutional neural network\n",
    "\n",
    "Train this CNN with learning rate 1e-2 for 5 epochs.\n",
    "\n",
    "You should see the training loss is aroung 0.9 and accuracy is around 67%."
   ]
  },
  {
   "cell_type": "code",
   "execution_count": 55,
   "metadata": {},
   "outputs": [
    {
     "name": "stdout",
     "output_type": "stream",
     "text": [
      "Epoch: [1 / 5], batches: [100 / 782], loss: 2.304, acc: 9.16\n",
      "Epoch: [1 / 5], batches: [200 / 782], loss: 2.303, acc: 9.80\n",
      "Epoch: [1 / 5], batches: [300 / 782], loss: 2.303, acc: 10.14\n",
      "Epoch: [1 / 5], batches: [400 / 782], loss: 2.303, acc: 10.31\n",
      "Epoch: [1 / 5], batches: [500 / 782], loss: 2.303, acc: 9.73\n",
      "Epoch: [1 / 5], batches: [600 / 782], loss: 2.300, acc: 11.55\n",
      "Epoch: [1 / 5], batches: [700 / 782], loss: 2.195, acc: 18.59\n",
      "Epoch: [2 / 5], batches: [100 / 782], loss: 1.968, acc: 25.80\n",
      "Epoch: [2 / 5], batches: [200 / 782], loss: 1.883, acc: 29.56\n",
      "Epoch: [2 / 5], batches: [300 / 782], loss: 1.819, acc: 32.28\n",
      "Epoch: [2 / 5], batches: [400 / 782], loss: 1.767, acc: 34.56\n",
      "Epoch: [2 / 5], batches: [500 / 782], loss: 1.689, acc: 36.98\n",
      "Epoch: [2 / 5], batches: [600 / 782], loss: 1.677, acc: 38.00\n",
      "Epoch: [2 / 5], batches: [700 / 782], loss: 1.634, acc: 40.17\n",
      "Epoch: [3 / 5], batches: [100 / 782], loss: 1.551, acc: 42.88\n",
      "Epoch: [3 / 5], batches: [200 / 782], loss: 1.490, acc: 45.70\n",
      "Epoch: [3 / 5], batches: [300 / 782], loss: 1.466, acc: 47.28\n",
      "Epoch: [3 / 5], batches: [400 / 782], loss: 1.444, acc: 47.44\n",
      "Epoch: [3 / 5], batches: [500 / 782], loss: 1.390, acc: 49.14\n",
      "Epoch: [3 / 5], batches: [600 / 782], loss: 1.362, acc: 50.61\n",
      "Epoch: [3 / 5], batches: [700 / 782], loss: 1.369, acc: 50.97\n",
      "Epoch: [4 / 5], batches: [100 / 782], loss: 1.282, acc: 53.05\n",
      "Epoch: [4 / 5], batches: [200 / 782], loss: 1.293, acc: 53.53\n",
      "Epoch: [4 / 5], batches: [300 / 782], loss: 1.215, acc: 55.73\n",
      "Epoch: [4 / 5], batches: [400 / 782], loss: 1.234, acc: 55.20\n",
      "Epoch: [4 / 5], batches: [500 / 782], loss: 1.196, acc: 57.11\n",
      "Epoch: [4 / 5], batches: [600 / 782], loss: 1.188, acc: 57.52\n",
      "Epoch: [4 / 5], batches: [700 / 782], loss: 1.151, acc: 59.22\n",
      "Epoch: [5 / 5], batches: [100 / 782], loss: 1.060, acc: 61.98\n",
      "Epoch: [5 / 5], batches: [200 / 782], loss: 1.060, acc: 62.42\n",
      "Epoch: [5 / 5], batches: [300 / 782], loss: 1.044, acc: 63.22\n",
      "Epoch: [5 / 5], batches: [400 / 782], loss: 1.058, acc: 62.06\n",
      "Epoch: [5 / 5], batches: [500 / 782], loss: 1.032, acc: 63.92\n",
      "Epoch: [5 / 5], batches: [600 / 782], loss: 1.032, acc: 63.38\n",
      "Epoch: [5 / 5], batches: [700 / 782], loss: 0.977, acc: 65.56\n",
      "Finished Training\n"
     ]
    }
   ],
   "source": [
    "'''\n",
    "Implement here, use the train function provided.\n",
    "'''\n",
    "optimizer = get_optimizer(conv_net, 0.01)\n",
    "train(conv_net, trainloader, optimizer, 5)"
   ]
  },
  {
   "cell_type": "markdown",
   "metadata": {},
   "source": [
    "## Test the convolutional neural network\n",
    "\n",
    "Test this CNN on the test dataset.\n",
    "\n",
    "You should see the accuracy is around 62%."
   ]
  },
  {
   "cell_type": "code",
   "execution_count": 58,
   "metadata": {},
   "outputs": [
    {
     "name": "stdout",
     "output_type": "stream",
     "text": [
      "Accuracy of the network on the 10000 test images: 62 %\n"
     ]
    }
   ],
   "source": [
    "'''\n",
    "Implemente here, use the test function provided.\n",
    "'''\n",
    "PATH = './checkpoints/conv_net.pth'\n",
    "\n",
    "\n",
    "def save_model(net, path):\n",
    "    torch.save(net.state_dict(), path)\n",
    "    \n",
    "save_model(conv_net, PATH)\n",
    "\n",
    "net = ConvolutionNet()\n",
    "def load_model(net, path):\n",
    "    net.load_state_dict(torch.load(path))\n",
    "load_model(net, PATH)\n",
    "test(net, testloader)"
   ]
  },
  {
   "cell_type": "markdown",
   "metadata": {},
   "source": [
    "## Accuracy (each class) of CNN\n",
    "\n",
    "Test this CNN on the test dataset to see the accuracy of each class."
   ]
  },
  {
   "cell_type": "code",
   "execution_count": 59,
   "metadata": {},
   "outputs": [
    {
     "name": "stdout",
     "output_type": "stream",
     "text": [
      "Accuracy for class plane is: 63.4 %\n",
      "Accuracy for class car   is: 75.5 %\n",
      "Accuracy for class bird  is: 31.8 %\n",
      "Accuracy for class cat   is: 39.0 %\n",
      "Accuracy for class deer  is: 68.1 %\n",
      "Accuracy for class dog   is: 65.6 %\n",
      "Accuracy for class frog  is: 74.1 %\n",
      "Accuracy for class horse is: 65.4 %\n",
      "Accuracy for class ship  is: 66.4 %\n",
      "Accuracy for class truck is: 74.4 %\n"
     ]
    }
   ],
   "source": [
    "'''\n",
    "Implemente here, use the class_test function provided.\n",
    "'''\n",
    "class_test(net, testloader)"
   ]
  },
  {
   "cell_type": "markdown",
   "metadata": {},
   "source": [
    "## Let's use BN\n",
    "\n",
    "Add BatchNorm2d to the convolution neural network you implemented.\n",
    "\n",
    "You should add batchnorm after the convolution operator and before the activation layer.\n",
    "\n",
    "Please train this network and show the test accuracy."
   ]
  },
  {
   "cell_type": "code",
   "execution_count": 60,
   "metadata": {},
   "outputs": [
    {
     "name": "stdout",
     "output_type": "stream",
     "text": [
      "ConvolutionBNNet(\n",
      "  (conv1): Conv2d(3, 8, kernel_size=(5, 5), stride=(1, 1), padding=(2, 2))\n",
      "  (bn1): BatchNorm2d(8, eps=1e-05, momentum=0.1, affine=True, track_running_stats=True)\n",
      "  (relu1): ReLU()\n",
      "  (conv2): Conv2d(8, 16, kernel_size=(5, 5), stride=(2, 2), padding=(2, 2))\n",
      "  (bn2): BatchNorm2d(16, eps=1e-05, momentum=0.1, affine=True, track_running_stats=True)\n",
      "  (relu2): ReLU()\n",
      "  (conv3): Conv2d(16, 32, kernel_size=(5, 5), stride=(1, 1), padding=(2, 2))\n",
      "  (bn3): BatchNorm2d(32, eps=1e-05, momentum=0.1, affine=True, track_running_stats=True)\n",
      "  (relu3): ReLU()\n",
      "  (conv4): Conv2d(32, 64, kernel_size=(5, 5), stride=(2, 2), padding=(2, 2))\n",
      "  (bn4): BatchNorm2d(64, eps=1e-05, momentum=0.1, affine=True, track_running_stats=True)\n",
      "  (relu4): ReLU()\n",
      "  (conv5): Conv2d(64, 128, kernel_size=(5, 5), stride=(1, 1), padding=(2, 2))\n",
      "  (bn5): BatchNorm2d(128, eps=1e-05, momentum=0.1, affine=True, track_running_stats=True)\n",
      "  (maxpool): MaxPool2d(kernel_size=2, stride=2, padding=0, dilation=1, ceil_mode=False)\n",
      "  (relu5): ReLU()\n",
      "  (flatten): Flatten(start_dim=1, end_dim=-1)\n",
      "  (fc1): Linear(in_features=2048, out_features=120, bias=True)\n",
      "  (bn6): BatchNorm1d(120, eps=1e-05, momentum=0.1, affine=True, track_running_stats=True)\n",
      "  (relu6): ReLU()\n",
      "  (fc2): Linear(in_features=120, out_features=84, bias=True)\n",
      "  (bn7): BatchNorm1d(84, eps=1e-05, momentum=0.1, affine=True, track_running_stats=True)\n",
      "  (relu7): ReLU()\n",
      "  (fc3): Linear(in_features=84, out_features=10, bias=True)\n",
      ")\n"
     ]
    }
   ],
   "source": [
    "import torch.nn as nn\n",
    "import torch.nn.functional as F\n",
    "\n",
    "\n",
    "class ConvolutionBNNet(nn.Module):\n",
    "    def __init__(self):\n",
    "        super().__init__()\n",
    "        '''\n",
    "        Implement here.\n",
    "        '''\n",
    "        self.conv1 = nn.Conv2d(3, 8, kernel_size=5, padding=2)\n",
    "        self.bn1 = nn.BatchNorm2d(8)\n",
    "        self.relu1 = nn.ReLU()\n",
    "\n",
    "        self.conv2 = nn.Conv2d(8, 16, kernel_size=5, padding=2, stride=2)\n",
    "        self.bn2 = nn.BatchNorm2d(16)\n",
    "        self.relu2 = nn.ReLU()\n",
    "\n",
    "        self.conv3 = nn.Conv2d(16, 32, kernel_size=5, padding=2)\n",
    "        self.bn3 = nn.BatchNorm2d(32)\n",
    "        self.relu3 = nn.ReLU()\n",
    "\n",
    "        self.conv4 = nn.Conv2d(32, 64, kernel_size=5, padding=2, stride=2)\n",
    "        self.bn4 = nn.BatchNorm2d(64)\n",
    "        self.relu4 = nn.ReLU()\n",
    "\n",
    "        self.conv5 = nn.Conv2d(64, 128, kernel_size=5, padding=2)\n",
    "        self.bn5 = nn.BatchNorm2d(128)\n",
    "        self.maxpool = nn.MaxPool2d(2, 2)\n",
    "        self.relu5 = nn.ReLU()\n",
    "        self.flatten = nn.Flatten()\n",
    "        self.fc1 = nn.Linear(128 * 4 * 4, 120)\n",
    "        self.bn6 = nn.BatchNorm1d(120)\n",
    "        self.relu6 = nn.ReLU()\n",
    "\n",
    "        self.fc2 = nn.Linear(120, 84)\n",
    "        self.bn7 = nn.BatchNorm1d(84)\n",
    "        self.relu7 = nn.ReLU()\n",
    "\n",
    "        self.fc3 = nn.Linear(84, 10)\n",
    "\n",
    "    def forward(self, x):\n",
    "        '''\n",
    "        Implement here\n",
    "        '''\n",
    "        x = self.relu1(self.bn1(self.conv1(x)))\n",
    "        x = self.relu2(self.bn2(self.conv2(x)))\n",
    "        x = self.relu3(self.bn3(self.conv3(x)))\n",
    "        x = self.relu4(self.bn4(self.conv4(x)))\n",
    "        x = self.relu5(self.bn5(self.conv5(x)))\n",
    "        x = self.maxpool(x)\n",
    "        x = self.flatten(x)\n",
    "        x = self.relu6(self.bn6(self.fc1(x)))\n",
    "        x = self.relu7(self.bn7(self.fc2(x)))\n",
    "        x = self.fc3(x)\n",
    "        return x\n",
    "\n",
    "conv_bn_net = ConvolutionBNNet()\n",
    "print(conv_bn_net)"
   ]
  },
  {
   "cell_type": "markdown",
   "metadata": {},
   "source": [
    "## Train the CNN with BN\n",
    "\n",
    "Train this CNN with learning rate 1e-2 for 5 epochs.\n",
    "\n",
    "You should see the training loss is aroung 0.6 and accuracy is around 78%."
   ]
  },
  {
   "cell_type": "code",
   "execution_count": 61,
   "metadata": {},
   "outputs": [
    {
     "name": "stdout",
     "output_type": "stream",
     "text": [
      "Epoch: [1 / 5], batches: [100 / 782], loss: 1.803, acc: 34.77\n",
      "Epoch: [1 / 5], batches: [200 / 782], loss: 1.517, acc: 44.83\n",
      "Epoch: [1 / 5], batches: [300 / 782], loss: 1.428, acc: 47.94\n",
      "Epoch: [1 / 5], batches: [400 / 782], loss: 1.285, acc: 53.12\n",
      "Epoch: [1 / 5], batches: [500 / 782], loss: 1.204, acc: 56.34\n",
      "Epoch: [1 / 5], batches: [600 / 782], loss: 1.201, acc: 57.91\n",
      "Epoch: [1 / 5], batches: [700 / 782], loss: 1.120, acc: 59.73\n",
      "Epoch: [2 / 5], batches: [100 / 782], loss: 0.990, acc: 64.75\n",
      "Epoch: [2 / 5], batches: [200 / 782], loss: 0.974, acc: 65.14\n",
      "Epoch: [2 / 5], batches: [300 / 782], loss: 0.963, acc: 65.69\n",
      "Epoch: [2 / 5], batches: [400 / 782], loss: 0.925, acc: 67.03\n",
      "Epoch: [2 / 5], batches: [500 / 782], loss: 0.883, acc: 68.52\n",
      "Epoch: [2 / 5], batches: [600 / 782], loss: 0.888, acc: 69.14\n",
      "Epoch: [2 / 5], batches: [700 / 782], loss: 0.864, acc: 69.84\n",
      "Epoch: [3 / 5], batches: [100 / 782], loss: 0.705, acc: 75.44\n",
      "Epoch: [3 / 5], batches: [200 / 782], loss: 0.705, acc: 75.70\n",
      "Epoch: [3 / 5], batches: [300 / 782], loss: 0.730, acc: 74.69\n",
      "Epoch: [3 / 5], batches: [400 / 782], loss: 0.727, acc: 74.53\n",
      "Epoch: [3 / 5], batches: [500 / 782], loss: 0.720, acc: 75.06\n",
      "Epoch: [3 / 5], batches: [600 / 782], loss: 0.735, acc: 73.58\n",
      "Epoch: [3 / 5], batches: [700 / 782], loss: 0.705, acc: 75.47\n",
      "Epoch: [4 / 5], batches: [100 / 782], loss: 0.561, acc: 80.94\n",
      "Epoch: [4 / 5], batches: [200 / 782], loss: 0.575, acc: 79.97\n",
      "Epoch: [4 / 5], batches: [300 / 782], loss: 0.552, acc: 80.91\n",
      "Epoch: [4 / 5], batches: [400 / 782], loss: 0.581, acc: 79.39\n",
      "Epoch: [4 / 5], batches: [500 / 782], loss: 0.595, acc: 78.81\n",
      "Epoch: [4 / 5], batches: [600 / 782], loss: 0.612, acc: 78.92\n",
      "Epoch: [4 / 5], batches: [700 / 782], loss: 0.591, acc: 79.02\n",
      "Epoch: [5 / 5], batches: [100 / 782], loss: 0.432, acc: 85.03\n",
      "Epoch: [5 / 5], batches: [200 / 782], loss: 0.455, acc: 84.27\n",
      "Epoch: [5 / 5], batches: [300 / 782], loss: 0.446, acc: 84.03\n",
      "Epoch: [5 / 5], batches: [400 / 782], loss: 0.482, acc: 83.11\n",
      "Epoch: [5 / 5], batches: [500 / 782], loss: 0.501, acc: 82.61\n",
      "Epoch: [5 / 5], batches: [600 / 782], loss: 0.522, acc: 81.69\n",
      "Epoch: [5 / 5], batches: [700 / 782], loss: 0.490, acc: 82.81\n",
      "Finished Training\n"
     ]
    }
   ],
   "source": [
    "\n",
    "'''\n",
    "Implement here\n",
    "'''\n",
    "optimizer = get_optimizer(conv_bn_net, 0.01)\n",
    "train(conv_bn_net, trainloader, optimizer, 5)"
   ]
  },
  {
   "cell_type": "markdown",
   "metadata": {},
   "source": [
    "## Test the CNN with BN\n",
    "\n",
    "Test this CNN on the test dataset.\n",
    "\n",
    "You should see the accuracy is around 74%."
   ]
  },
  {
   "cell_type": "code",
   "execution_count": 62,
   "metadata": {},
   "outputs": [
    {
     "name": "stdout",
     "output_type": "stream",
     "text": [
      "Accuracy of the network on the 10000 test images: 73 %\n"
     ]
    }
   ],
   "source": [
    "'''\n",
    "Implement here\n",
    "'''\n",
    "PATH = './checkpoints/conv_bn_net.pth'\n",
    "\n",
    "\n",
    "def save_model(net, path):\n",
    "    torch.save(net.state_dict(), path)\n",
    "    \n",
    "save_model(conv_bn_net, PATH)\n",
    "\n",
    "net = ConvolutionBNNet()\n",
    "def load_model(net, path):\n",
    "    net.load_state_dict(torch.load(path))\n",
    "load_model(net, PATH)\n",
    "test(net, testloader)"
   ]
  },
  {
   "cell_type": "markdown",
   "metadata": {},
   "source": [
    "## Accuracy (each class) of CNN with BN\n",
    "\n",
    "Test this CNN with BNN on the test dataset to see the accuracy of each class."
   ]
  },
  {
   "cell_type": "code",
   "execution_count": 63,
   "metadata": {},
   "outputs": [
    {
     "name": "stdout",
     "output_type": "stream",
     "text": [
      "Accuracy for class plane is: 76.8 %\n",
      "Accuracy for class car   is: 80.4 %\n",
      "Accuracy for class bird  is: 59.7 %\n",
      "Accuracy for class cat   is: 54.7 %\n",
      "Accuracy for class deer  is: 80.7 %\n",
      "Accuracy for class dog   is: 68.0 %\n",
      "Accuracy for class frog  is: 70.8 %\n",
      "Accuracy for class horse is: 77.5 %\n",
      "Accuracy for class ship  is: 83.2 %\n",
      "Accuracy for class truck is: 87.7 %\n"
     ]
    }
   ],
   "source": [
    "'''\n",
    "Implemente here, use the class_test function provided.\n",
    "'''\n",
    "class_test(net, testloader)"
   ]
  },
  {
   "attachments": {},
   "cell_type": "markdown",
   "metadata": {},
   "source": [
    "# Remember to only submit your notebook!!!"
   ]
  },
  {
   "attachments": {},
   "cell_type": "markdown",
   "metadata": {},
   "source": [
    "# Do not submit the data and the checkpoints!!!"
   ]
  },
  {
   "cell_type": "code",
   "execution_count": null,
   "metadata": {},
   "outputs": [],
   "source": []
  }
 ],
 "metadata": {
  "kernelspec": {
   "display_name": "Python 3 (ipykernel)",
   "language": "python",
   "name": "python3"
  },
  "language_info": {
   "codemirror_mode": {
    "name": "ipython",
    "version": 3
   },
   "file_extension": ".py",
   "mimetype": "text/x-python",
   "name": "python",
   "nbconvert_exporter": "python",
   "pygments_lexer": "ipython3",
   "version": "3.7.16"
  }
 },
 "nbformat": 4,
 "nbformat_minor": 1
}
